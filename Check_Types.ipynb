{
 "cells": [
  {
   "cell_type": "raw",
   "metadata": {},
   "source": [
    "# Checking features' data types to choose and convert to the best type"
   ]
  },
  {
   "cell_type": "code",
   "execution_count": 2,
   "metadata": {},
   "outputs": [],
   "source": [
    "import numpy as np\n",
    "import pandas as pd\n",
    "import matplotlib.pyplot as plt\n",
    "import seaborn as sns"
   ]
  },
  {
   "cell_type": "code",
   "execution_count": 3,
   "metadata": {},
   "outputs": [],
   "source": [
    "df = pd.read_csv('./data_set/Hotel-A-test.csv')"
   ]
  },
  {
   "cell_type": "code",
   "execution_count": 4,
   "metadata": {},
   "outputs": [],
   "source": [
    "labels = df.columns\n",
    "types = df.dtypes"
   ]
  },
  {
   "cell_type": "markdown",
   "metadata": {},
   "source": [
    "As the dates are varied in a considerable range, the variation can affect the model. Therefore the dates were converted to two numerical (date ranges) and on categeorical (months) columns."
   ]
  },
  {
   "cell_type": "code",
   "execution_count": 5,
   "metadata": {},
   "outputs": [],
   "source": [
    "def prepDates(df):\n",
    "    df[[\"Expected_checkin\",\"Expected_checkout\",\"Booking_date\"]]=df[[\"Expected_checkin\",\"Expected_checkout\",\"Booking_date\"]].astype('datetime64[ns]')\n",
    "    df[[\"Expected_checkin\",\"Expected_checkout\",\"Booking_date\"]].dtypes\n",
    "    df[[\"Staying\"]] = df[\"Expected_checkout\"]-df[\"Expected_checkin\"]\n",
    "    df[[\"Before\"]] = df[\"Expected_checkin\"]-df[\"Booking_date\"]\n",
    "    df[[\"Before\"]] = (df[[\"Before\"]] / np.timedelta64(1, 'D')).astype('int')\n",
    "    df[[\"Month\"]] = pd.DatetimeIndex(df[\"Booking_date\"]).month\n",
    "    return df;\n",
    "\n",
    "df = prepDates(df)"
   ]
  },
  {
   "cell_type": "markdown",
   "metadata": {},
   "source": [
    "Checking whether the newly created columns are eligible to converted to categorical data."
   ]
  },
  {
   "cell_type": "code",
   "execution_count": 6,
   "metadata": {
    "scrolled": false
   },
   "outputs": [
    {
     "output_type": "stream",
     "name": "stdout",
     "text": [
      "Gender : 2\nEthnicity : 4\nEducational_Level : 4\nIncome : 4\nCountry_region : 4\nHotel_Type : 3\nAdults : 5\nChildren : 3\nBabies : 3\nMeal_Type : 3\nVisted_Previously : 2\nPrevious_Cancellations : 2\nDeposit_type : 3\nBooking_channel : 3\nRequired_Car_Parking : 2\nUse_Promotion : 2\nDiscount_Rate : 8\nStaying : 4\nMonth : 12\n"
     ]
    }
   ],
   "source": [
    "for i in df:\n",
    "    count =df[i].astype(\"category\").describe().unique()[1]\n",
    "    if count<20:\n",
    "        print(i,\":\",count)"
   ]
  },
  {
   "cell_type": "markdown",
   "metadata": {},
   "source": [
    "It seems that newly created column \"Staying\" only has 4 sets of data. Therefore it can be taken as categorical."
   ]
  },
  {
   "cell_type": "markdown",
   "metadata": {},
   "source": [
    "Checking the \"Age\" column;"
   ]
  },
  {
   "cell_type": "code",
   "execution_count": 7,
   "metadata": {
    "scrolled": true
   },
   "outputs": [
    {
     "output_type": "stream",
     "name": "stdout",
     "text": [
      "count     4318\nunique      53\ntop         52\nfreq        99\nName: Age, dtype: int64\n"
     ]
    }
   ],
   "source": [
    "print(df.Age.astype(\"category\").describe())"
   ]
  },
  {
   "cell_type": "markdown",
   "metadata": {},
   "source": [
    "Age is in between 18-70. That descreet values can be converted to less categories by considering the age ranges.\n",
    "Expect to use all possible age ranges as data will be only categerised to available ranges."
   ]
  },
  {
   "cell_type": "code",
   "execution_count": 8,
   "metadata": {},
   "outputs": [],
   "source": [
    "def binAge(df):\n",
    "    df.Age = df.Age.fillna(-0.5)\n",
    "    bins = (-1, 0, 5, 12, 18, 25, 35, 60, 120)\n",
    "    group_names = ['Unknown', 'Baby', 'Child', 'Teenager', 'Student', 'Young Adult', 'Adult', 'Senior']\n",
    "    categories = pd.cut(df.Age, bins, labels=group_names)\n",
    "    df[['Age_cat']] = categories.cat.codes\n",
    "    return df\n",
    "df = binAge(df)"
   ]
  },
  {
   "cell_type": "code",
   "execution_count": 10,
   "metadata": {},
   "outputs": [
    {
     "output_type": "stream",
     "name": "stdout",
     "text": [
      "Gender : 2\nEthnicity : 4\nEducational_Level : 4\nIncome : 4\nCountry_region : 4\nHotel_Type : 3\nAdults : 5\nChildren : 3\nBabies : 3\nMeal_Type : 3\nVisted_Previously : 2\nPrevious_Cancellations : 2\nDeposit_type : 3\nBooking_channel : 3\nRequired_Car_Parking : 2\nUse_Promotion : 2\nDiscount_Rate : 8\nStaying : 4\nMonth : 12\nAge_cat : 5\n"
     ]
    }
   ],
   "source": [
    "for i in df:\n",
    "    count =df[i].astype(\"category\").describe().unique()[1]\n",
    "    if count<20:\n",
    "        print(i,\":\",count)"
   ]
  },
  {
   "cell_type": "code",
   "execution_count": null,
   "metadata": {},
   "outputs": [],
   "source": []
  }
 ],
 "metadata": {
  "kernelspec": {
   "display_name": "Python 3",
   "language": "python",
   "name": "python3"
  },
  "language_info": {
   "codemirror_mode": {
    "name": "ipython",
    "version": 3
   },
   "file_extension": ".py",
   "mimetype": "text/x-python",
   "name": "python",
   "nbconvert_exporter": "python",
   "pygments_lexer": "ipython3",
   "version": "3.8.5-final"
  }
 },
 "nbformat": 4,
 "nbformat_minor": 4
}