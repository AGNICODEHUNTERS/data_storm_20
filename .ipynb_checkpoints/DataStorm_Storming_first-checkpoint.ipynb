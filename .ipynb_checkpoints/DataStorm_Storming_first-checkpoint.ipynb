{
 "cells": [
  {
   "cell_type": "code",
   "execution_count": 1171,
   "metadata": {},
   "outputs": [],
   "source": [
    "import numpy as np\n",
    "import pandas as pd\n",
    "import matplotlib.pyplot as plt\n",
    "import seaborn as sns\n",
    "import datetime as dt\n",
    "\n",
    "from sklearn.feature_selection import VarianceThreshold\n",
    "from sklearn.feature_selection import SelectKBest\n",
    "from sklearn.feature_selection import chi2\n",
    "from sklearn.ensemble import RandomForestClassifier\n",
    "from sklearn import tree\n",
    "from sklearn.metrics import make_scorer, accuracy_score\n",
    "from sklearn.model_selection import GridSearchCV\n",
    "from sklearn.metrics import f1_score\n",
    "\n",
    "data_train = pd.read_csv('./data_set/Hotel-A-train.csv')\n",
    "data_test = pd.read_csv('./data_set/Hotel-A-validation.csv')\n",
    "data_out_or = pd.read_csv('./data_set/Hotel-A-test.csv')\n"
   ]
  },
  {
   "cell_type": "code",
   "execution_count": null,
   "metadata": {},
   "outputs": [],
   "source": []
  },
  {
   "cell_type": "code",
   "execution_count": 1162,
   "metadata": {},
   "outputs": [],
   "source": [
    "def prepare(df,train):\n",
    "    df=df.dropna()\n",
    "    df=df.drop_duplicates()\n",
    "    df = prepDates(df)\n",
    "    df = binAge(df)\n",
    "    #df = binRoomRate(df)\n",
    "    df = makeCats(df)\n",
    "    df=df.dropna()\n",
    "    df=df.drop_duplicates()\n",
    "    if(train):\n",
    "        y = df[[\"Reservation_Status\"]]\n",
    "        y = catStatus(y)\n",
    "        return(df,y)\n",
    "    else:\n",
    "        ids = ids = df[[\"Reservation-id\"]]\n",
    "        return (df,ids)\n",
    "\n",
    "def prepDates(df):\n",
    "    df[[\"Expected_checkin\",\"Expected_checkout\",\"Booking_date\"]]=df[[\"Expected_checkin\",\"Expected_checkout\",\"Booking_date\"]].astype('datetime64[ns]')\n",
    "    df[[\"Expected_checkin\",\"Expected_checkout\",\"Booking_date\"]].dtypes\n",
    "    df[[\"Staying\"]] = df[\"Expected_checkout\"]-df[\"Expected_checkin\"]\n",
    "    df[[\"Before\"]] = df[\"Expected_checkin\"]-df[\"Booking_date\"]\n",
    "    df[[\"Before\"]] = (df[[\"Before\"]] / np.timedelta64(1, 'D')).astype('int')\n",
    "    df[[\"Month\"]] = pd.DatetimeIndex(df[\"Booking_date\"]).month\n",
    "    return df;\n",
    "\n",
    "def binAge(df):\n",
    "    df.Age = df.Age.fillna(-0.5)\n",
    "    bins = (-1, 0, 5, 12, 18, 25, 35, 60, 120)\n",
    "    group_names = ['Unknown', 'Baby', 'Child', 'Teenager', 'Student', 'Young Adult', 'Adult', 'Senior']\n",
    "    categories = pd.cut(df.Age, bins, labels=group_names)\n",
    "    df[['Age_cat']] = categories.cat.codes\n",
    "    return df\n",
    "\n",
    "def binRoomRate(df):\n",
    "    df.Room_Rate = df.Room_Rate.fillna(1)\n",
    "    bins = (100,200,300)\n",
    "    group_names = [1,2];\n",
    "    categories = pd.cut(df.Room_Rate, bins, labels=group_names)\n",
    "    df.Room_Rate = categories.cat.codes\n",
    "    return df\n",
    "\n",
    "def binBefore(df):\n",
    "    df.Before = df.Before.fillna(1)\n",
    "    bins = (0,10,20,50,100,200,500,1000)\n",
    "    group_names = [1,2,3,4,5,6,7];\n",
    "    categories = pd.cut(df.Before, bins, labels=group_names)\n",
    "    df.Before = categories\n",
    "    df['Before'] = df['Before'].cat.codes\n",
    "    return df\n",
    "\n",
    "def makeCats(x):\n",
    "    x[[\"Gender\",\"Ethnicity\",\"Educational_Level\",\"Income\",\"Country_region\",\"Hotel_Type\",\"Meal_Type\",\"Visted_Previously\",\"Previous_Cancellations\",\"Deposit_type\",\"Booking_channel\",\"Required_Car_Parking\",\"Use_Promotion\",\"Staying\",\"Discount_Rate\"]]=x[[\"Gender\",\"Ethnicity\",\"Educational_Level\",\"Income\",\"Country_region\",\"Hotel_Type\",\"Meal_Type\",\"Visted_Previously\",\"Previous_Cancellations\",\"Deposit_type\",\"Booking_channel\",\"Required_Car_Parking\",\"Use_Promotion\",\"Staying\",\"Discount_Rate\"]].astype(\"category\")\n",
    "    cat_columns =[\"Gender_cat\",\"Ethnicity_cat\",\"Educational_Level_cat\",\"Income_cat\",\"Country_region_cat\",\"Hotel_Type_cat\",\"Meal_Type_cat\",\"Visted_Previously_cat\",\"Previous_Cancellations_cat\",\"Deposit_type_cat\",\"Booking_channel_cat\",\"Required_Car_Parking_cat\",\"Use_Promotion_cat\",\"Staying_cat\",\"Discount_Rate_cat\"]\n",
    "    columns=[\"Gender\",\"Ethnicity\",\"Educational_Level\",\"Income\",\"Country_region\",\"Hotel_Type\",\"Meal_Type\",\"Visted_Previously\",\"Previous_Cancellations\",\"Deposit_type\",\"Booking_channel\",\"Required_Car_Parking\",\"Use_Promotion\",\"Staying\",\"Discount_Rate\"]\n",
    "    for i in range(len(cat_columns)):\n",
    "        x[cat_columns[i]]=x[columns[i]].cat.codes\n",
    "    return x\n",
    "\n",
    "def catStatus(df):\n",
    "    cleanups ={\"Reservation_Status\":{\"Check-In\":1,\"Canceled\":2,\"No-Show\":3}}\n",
    "    df = df.replace(cleanups)\n",
    "    return df\n",
    "\n",
    "def drop(df,columns):\n",
    "    df = df.drop(columns = columns)\n",
    "    return df\n",
    "   \n",
    "    \n",
    "def out(df,columns,train):\n",
    "    x,y = prepare(df,train)\n",
    "    #x = binBefore(x)\n",
    "    x = drop(x,columns)\n",
    "    return (x,y)\n"
   ]
  },
  {
   "cell_type": "code",
   "execution_count": null,
   "metadata": {},
   "outputs": [],
   "source": []
  },
  {
   "cell_type": "code",
   "execution_count": 1163,
   "metadata": {},
   "outputs": [
    {
     "name": "stdout",
     "output_type": "stream",
     "text": [
      "Adults                        int64\n",
      "Children                      int64\n",
      "Babies                        int64\n",
      "Room_Rate                     int64\n",
      "Before                        int64\n",
      "Month                         int64\n",
      "Age_cat                        int8\n",
      "Gender_cat                     int8\n",
      "Ethnicity_cat                  int8\n",
      "Educational_Level_cat          int8\n",
      "Income_cat                     int8\n",
      "Country_region_cat             int8\n",
      "Hotel_Type_cat                 int8\n",
      "Meal_Type_cat                  int8\n",
      "Visted_Previously_cat          int8\n",
      "Previous_Cancellations_cat     int8\n",
      "Deposit_type_cat               int8\n",
      "Booking_channel_cat            int8\n",
      "Required_Car_Parking_cat       int8\n",
      "Use_Promotion_cat              int8\n",
      "Staying_cat                    int8\n",
      "Discount_Rate_cat              int8\n",
      "dtype: object\n"
     ]
    }
   ],
   "source": [
    "columns_train=[\"Reservation-id\",\"Reservation_Status\",\"Expected_checkin\",\"Expected_checkout\",\"Booking_date\",\"Age\",\"Gender\",\"Ethnicity\",\"Educational_Level\",\"Income\",\"Country_region\",\"Hotel_Type\",\"Meal_Type\",\"Visted_Previously\",\"Previous_Cancellations\",\"Deposit_type\",\"Booking_channel\",\"Required_Car_Parking\",\"Use_Promotion\",\"Staying\",\"Discount_Rate\"]#,\"Room_Rate\"]\n",
    "columns_out=[\"Reservation-id\",\"Expected_checkin\",\"Expected_checkout\",\"Booking_date\",\"Age\",\"Gender\",\"Ethnicity\",\"Educational_Level\",\"Income\",\"Country_region\",\"Hotel_Type\",\"Meal_Type\",\"Visted_Previously\",\"Previous_Cancellations\",\"Deposit_type\",\"Booking_channel\",\"Required_Car_Parking\",\"Use_Promotion\",\"Staying\",\"Discount_Rate\"]#,\"Room_Rate\"]\n",
    "\n",
    "\n",
    "\n",
    "\n",
    "data_train_x,data_train_y = out(data_train,columns_train,True)\n",
    "data_test_x,data_test_y =out(data_test,columns_train,True)\n",
    "data_out,ids = out(data_out_or,columns_out,False)\n",
    "\n",
    "print(data_out.dtypes)"
   ]
  },
  {
   "cell_type": "code",
   "execution_count": 1164,
   "metadata": {},
   "outputs": [
    {
     "name": "stdout",
     "output_type": "stream",
     "text": [
      "       Adults  Children  Babies  Room_Rate  Before  Month  Age_cat  \\\n",
      "27156       5         1       1        175      57      6        6   \n",
      "5776        2         3       0        174     256      6        5   \n",
      "12993       2         3       0        237       3      2        6   \n",
      "20134       4         2       1        154     161      8        5   \n",
      "14605       1         1       0        245     153      8        7   \n",
      "\n",
      "       Gender_cat  Ethnicity_cat  Educational_Level_cat  ...  Hotel_Type_cat  \\\n",
      "27156           1              2                      2  ...               0   \n",
      "5776            1              0                      3  ...               0   \n",
      "12993           0              3                      0  ...               0   \n",
      "20134           0              2                      1  ...               0   \n",
      "14605           1              0                      1  ...               1   \n",
      "\n",
      "       Meal_Type_cat  Visted_Previously_cat  Previous_Cancellations_cat  \\\n",
      "27156              2                      0                           0   \n",
      "5776               0                      0                           0   \n",
      "12993              2                      1                           1   \n",
      "20134              0                      0                           0   \n",
      "14605              2                      0                           0   \n",
      "\n",
      "       Deposit_type_cat  Booking_channel_cat  Required_Car_Parking_cat  \\\n",
      "27156                 2                    1                         0   \n",
      "5776                  0                    2                         0   \n",
      "12993                 0                    2                         1   \n",
      "20134                 0                    2                         1   \n",
      "14605                 0                    0                         0   \n",
      "\n",
      "       Use_Promotion_cat  Staying_cat  Discount_Rate_cat  \n",
      "27156                  1            0                  3  \n",
      "5776                   1            2                  4  \n",
      "12993                  1            0                  2  \n",
      "20134                  1            1                  4  \n",
      "14605                  1            1                  4  \n",
      "\n",
      "[5 rows x 22 columns]\n"
     ]
    }
   ],
   "source": [
    "print(data_train_x.sample(5))\n",
    "#print(data_out.sample(5))"
   ]
  },
  {
   "cell_type": "code",
   "execution_count": 1165,
   "metadata": {},
   "outputs": [],
   "source": [
    "parameters = {'criterion': ['entropy', 'gini'],\n",
    "              'splitter':['best','random'],\n",
    "              'max_depth': [2, 3, 5, 10],\n",
    "              'min_samples_split': [2, 3, 5],\n",
    "              'min_samples_leaf': [1,5,8],\n",
    "              'max_features': ['log2', 'sqrt','auto']   \n",
    "             }\n",
    "clf = tree.DecisionTreeClassifier()\n",
    "#acc_scorer = make_scorer(accuracy_score)\n",
    "\n",
    "#grid_obj = GridSearchCV(clf, parameters, scoring=acc_scorer)\n",
    "#grid_obj = grid_obj.fit(data_train_x, data_train_y)\n",
    "\n",
    "#clf = grid_obj.best_estimator_\n",
    "clf = clf.fit(data_train_x, data_train_y)"
   ]
  },
  {
   "cell_type": "code",
   "execution_count": 1166,
   "metadata": {},
   "outputs": [],
   "source": [
    "#pred = clf.predict(data_out)\n",
    "#ids[['Reservation_Status']]=pred\n",
    "#ids.to_csv('AGNI_CODE_HUNTER_3.csv',index=False)"
   ]
  },
  {
   "cell_type": "code",
   "execution_count": 1167,
   "metadata": {},
   "outputs": [],
   "source": [
    "#print(f1_score(data_test_y,pred,average=\"macro\"))\n",
    "#print(accuracy_score(data_test_y, pred))"
   ]
  },
  {
   "cell_type": "code",
   "execution_count": 1168,
   "metadata": {},
   "outputs": [],
   "source": [
    "from sklearn.svm import LinearSVC\n",
    "from sklearn.pipeline import make_pipeline\n",
    "from sklearn.preprocessing import StandardScaler\n",
    "#clf = make_pipeline(StandardScaler(),LinearSVC(random_state=0, tol=1e-5, max_iter=10000,verbose=5))\n",
    "#clf = clf.fit(data_train_x, data_train_y.values.ravel())\n",
    "#pred = clf.predict(data_test_x)\n",
    "#print(f1_score(data_test_y,pred,average=\"macro\"))\n",
    "#print(accuracy_score(data_test_y, pred))"
   ]
  },
  {
   "cell_type": "code",
   "execution_count": 1169,
   "metadata": {},
   "outputs": [
    {
     "name": "stdout",
     "output_type": "stream",
     "text": [
      "[1 1 3 ... 1 3 1]\n",
      "{'acc': 0.4867224445252819, 'f1': 0.3345289449639921}\n"
     ]
    }
   ],
   "source": [
    "import numpy as np\n",
    "import matplotlib.pyplot as plt\n",
    "from matplotlib.colors import ListedColormap\n",
    "from sklearn.model_selection import train_test_split\n",
    "from sklearn.preprocessing import StandardScaler\n",
    "from sklearn.datasets import make_moons, make_circles, make_classification\n",
    "from sklearn.neural_network import MLPClassifier\n",
    "from sklearn.neighbors import KNeighborsClassifier\n",
    "from sklearn.svm import SVC\n",
    "from sklearn.gaussian_process import GaussianProcessClassifier\n",
    "from sklearn.gaussian_process.kernels import RBF\n",
    "from sklearn.tree import DecisionTreeClassifier\n",
    "from sklearn.ensemble import RandomForestClassifier, AdaBoostClassifier\n",
    "from sklearn.naive_bayes import GaussianNB\n",
    "from sklearn.discriminant_analysis import QuadraticDiscriminantAnalysis\n",
    "\n",
    "h = .02  # step size in the mesh\n",
    "\n",
    "names = [\"Nearest Neighbors\", \"Linear SVM\", \"RBF SVM\", \"Gaussian Process\",\n",
    "         \"Decision Tree\", \"Random Forest\", \"Neural Net\", \"AdaBoost\",\n",
    "         \"Naive Bayes\", \"QDA\"]\n",
    "\n",
    "classifiers = [\n",
    "    #KNeighborsClassifier(),\n",
    "    #SVC(),\n",
    "    #SVC(gamma=2, C=1),\n",
    "    #GaussianProcessClassifier(1.0 * RBF(1.0)),\n",
    "    DecisionTreeClassifier(),\n",
    "    #RandomForestClassifier(max_depth=5, n_estimators=10, max_features=1),\n",
    "    #MLPClassifier(alpha=1, max_iter=1000),\n",
    "    #AdaBoostClassifier(),\n",
    "    #GaussianNB(),\n",
    "    #QuadraticDiscriminantAnalysis()\n",
    "]\n",
    "accs =[]\n",
    "for i in classifiers:\n",
    "    clf = i.fit(data_train_x, data_train_y.values.ravel())\n",
    "    pred = clf.predict(data_test_x)\n",
    "    print(pred)\n",
    "    print({'acc':accuracy_score(data_test_y, pred),'f1':f1_score(data_test_y,pred,average=\"macro\")})\n"
   ]
  },
  {
   "cell_type": "code",
   "execution_count": null,
   "metadata": {},
   "outputs": [],
   "source": []
  },
  {
   "cell_type": "code",
   "execution_count": 1170,
   "metadata": {},
   "outputs": [
    {
     "data": {
      "text/plain": [
       "count     27499\n",
       "unique        5\n",
       "top           6\n",
       "freq      12989\n",
       "Name: Age_cat, dtype: int64"
      ]
     },
     "execution_count": 1170,
     "metadata": {},
     "output_type": "execute_result"
    }
   ],
   "source": [
    "data_train_x.Age_cat.astype('category').describe()"
   ]
  },
  {
   "cell_type": "code",
   "execution_count": null,
   "metadata": {},
   "outputs": [],
   "source": []
  }
 ],
 "metadata": {
  "kernelspec": {
   "display_name": "Python 3",
   "language": "python",
   "name": "python3"
  },
  "language_info": {
   "codemirror_mode": {
    "name": "ipython",
    "version": 3
   },
   "file_extension": ".py",
   "mimetype": "text/x-python",
   "name": "python",
   "nbconvert_exporter": "python",
   "pygments_lexer": "ipython3",
   "version": "3.8.5"
  }
 },
 "nbformat": 4,
 "nbformat_minor": 4
}
