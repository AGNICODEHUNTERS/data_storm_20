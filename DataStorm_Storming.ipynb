{
 "cells": [
  {
   "cell_type": "markdown",
   "metadata": {},
   "source": [
    "# Final Code"
   ]
  },
  {
   "cell_type": "markdown",
   "metadata": {},
   "source": [
    "Importing libraries"
   ]
  },
  {
   "cell_type": "code",
   "execution_count": 27,
   "metadata": {},
   "outputs": [],
   "source": [
    "import numpy as np\n",
    "import pandas as pd\n",
    "import matplotlib.pyplot as plt\n",
    "import seaborn as sns\n",
    "import datetime as dt\n",
    "\n",
    "from sklearn import tree\n",
    "from sklearn.metrics import make_scorer, accuracy_score\n",
    "from sklearn.metrics import f1_score"
   ]
  },
  {
   "cell_type": "markdown",
   "metadata": {},
   "source": [
    "Importing datasets"
   ]
  },
  {
   "cell_type": "code",
   "execution_count": 28,
   "metadata": {},
   "outputs": [],
   "source": [
    "data_train = pd.read_csv('./data_set/Hotel-A-train.csv')\n",
    "data_test = pd.read_csv('./data_set/Hotel-A-validation.csv')\n",
    "data_out_or = pd.read_csv('./data_set/Hotel-A-test.csv')"
   ]
  },
  {
   "cell_type": "markdown",
   "metadata": {},
   "source": [
    "Defining data preprocessing functions"
   ]
  },
  {
   "cell_type": "code",
   "execution_count": 29,
   "metadata": {},
   "outputs": [],
   "source": [
    "def prepare(df,train):\n",
    "    df=df.dropna()\n",
    "    df=df.drop_duplicates()\n",
    "    df = prepDates(df)\n",
    "    df = binAge(df)\n",
    "    df = makeCats(df)\n",
    "    df = binRoomRate(df)\n",
    "    df=df.dropna()\n",
    "    df=df.drop_duplicates()\n",
    "    if(train):\n",
    "        y = df[[\"Reservation_Status\"]]\n",
    "        y = catStatus(y)\n",
    "        return(df,y)\n",
    "    else:\n",
    "        ids = ids = df[[\"Reservation-id\"]]\n",
    "        return (df,ids)\n",
    "\n",
    "def prepDates(df):\n",
    "    df[[\"Expected_checkin\",\"Expected_checkout\",\"Booking_date\"]]=df[[\"Expected_checkin\",\"Expected_checkout\",\"Booking_date\"]].astype('datetime64[ns]')\n",
    "    df[[\"Expected_checkin\",\"Expected_checkout\",\"Booking_date\"]].dtypes\n",
    "    df[[\"Staying\"]] = df[\"Expected_checkout\"]-df[\"Expected_checkin\"]\n",
    "    df[[\"Before\"]] = df[\"Expected_checkin\"]-df[\"Booking_date\"]\n",
    "    df[[\"Before\"]] = (df[[\"Before\"]] / np.timedelta64(1, 'D')/7).astype('int')\n",
    "    df[[\"Month\"]] = pd.DatetimeIndex(df[\"Expected_checkin\"]).month\n",
    "    return df;\n",
    "\n",
    "def binAge(df):\n",
    "    df.Age = df.Age.fillna(-0.5)\n",
    "    bins = (-1, 0, 5, 12, 18, 25, 35, 60, 120)\n",
    "    group_names = ['Unknown', 'Baby', 'Child', 'Teenager', 'Student', 'Young Adult', 'Adult', 'Senior']\n",
    "    categories = pd.cut(df.Age, bins, labels=group_names)\n",
    "    df[['Age_cat']] = categories.cat.codes\n",
    "    return df\n",
    "\n",
    "def binRoomRate(df):\n",
    "    df.Room_Rate = df.Room_Rate.fillna(1)\n",
    "    bins = (100,150,200,250,300)\n",
    "    group_names = [1,2,3,4];\n",
    "    categories = pd.cut(df.Room_Rate, bins, labels=group_names)\n",
    "    df.Room_Rate = categories.cat.codes\n",
    "    return df\n",
    "\n",
    "def binBefore(df):\n",
    "    df.Before = df.Before.fillna(1)\n",
    "    bins = (-1000,0,10,20,50,100,200,500,1000)\n",
    "    group_names = [0,1,2,3,4,5,6,7];\n",
    "    categories = pd.cut(df.Before, bins, labels=group_names)\n",
    "    df.Before = categories\n",
    "    df['Before'] = df['Before'].cat.codes\n",
    "    return df\n",
    "\n",
    "def makeCats(x):\n",
    "    x[[\"Gender\",\"Ethnicity\",\"Educational_Level\",\"Income\",\"Country_region\",\"Hotel_Type\",\"Meal_Type\",\"Visted_Previously\",\"Previous_Cancellations\",\"Deposit_type\",\"Booking_channel\",\"Required_Car_Parking\",\"Use_Promotion\",\"Staying\",\"Discount_Rate\"]]=x[[\"Gender\",\"Ethnicity\",\"Educational_Level\",\"Income\",\"Country_region\",\"Hotel_Type\",\"Meal_Type\",\"Visted_Previously\",\"Previous_Cancellations\",\"Deposit_type\",\"Booking_channel\",\"Required_Car_Parking\",\"Use_Promotion\",\"Staying\",\"Discount_Rate\"]].astype(\"category\")\n",
    "    cat_columns =[\"Gender_cat\",\"Ethnicity_cat\",\"Educational_Level_cat\",\"Income_cat\",\"Country_region_cat\",\"Hotel_Type_cat\",\"Meal_Type_cat\",\"Visted_Previously_cat\",\"Previous_Cancellations_cat\",\"Deposit_type_cat\",\"Booking_channel_cat\",\"Required_Car_Parking_cat\",\"Use_Promotion_cat\",\"Staying_cat\",\"Discount_Rate_cat\"]\n",
    "    columns=[\"Gender\",\"Ethnicity\",\"Educational_Level\",\"Income\",\"Country_region\",\"Hotel_Type\",\"Meal_Type\",\"Visted_Previously\",\"Previous_Cancellations\",\"Deposit_type\",\"Booking_channel\",\"Required_Car_Parking\",\"Use_Promotion\",\"Staying\",\"Discount_Rate\"]\n",
    "    for i in range(len(cat_columns)):\n",
    "        x[cat_columns[i]]=x[columns[i]].cat.codes\n",
    "    return x\n",
    "\n",
    "def catStatus(df):\n",
    "    cleanups ={\"Reservation_Status\":{\"Check-In\":1,\"Canceled\":2,\"No-Show\":3}}\n",
    "    df = df.replace(cleanups)\n",
    "    return df\n",
    "\n",
    "def drop(df,columns):\n",
    "    df = df.drop(columns = columns)\n",
    "    return df\n",
    "   \n",
    "    \n",
    "def out(df,columns,train):\n",
    "    x,y = prepare(df,train)\n",
    "    #x = binBefore(x)\n",
    "    x = drop(x,columns)\n",
    "    return (x,y)\n"
   ]
  },
  {
   "cell_type": "markdown",
   "metadata": {},
   "source": [
    "Preprocessing data"
   ]
  },
  {
   "cell_type": "code",
   "execution_count": 30,
   "metadata": {},
   "outputs": [
    {
     "output_type": "execute_result",
     "data": {
      "text/plain": [
       "       Adults  Children  Babies  Room_Rate  Before  Month  Age_cat  \\\n",
       "0           2         2       0          2       5      7        6   \n",
       "1           3         3       0          1       5      7        6   \n",
       "2           3         3       0          0       0      7        6   \n",
       "3           4         3       0          0       1      7        4   \n",
       "4           1         1       0          2       1      7        7   \n",
       "...       ...       ...     ...        ...     ...    ...      ...   \n",
       "27494       1         2       1         -1       5      8        6   \n",
       "27495       2         1       0          1      18      8        6   \n",
       "27496       2         1       1          2       1      9        6   \n",
       "27497       3         2       0          1      14      8        7   \n",
       "27498       3         1       0          2       9      8        6   \n",
       "\n",
       "       Gender_cat  Ethnicity_cat  Educational_Level_cat  ...  Hotel_Type_cat  \\\n",
       "0               0              2                      1  ...               1   \n",
       "1               0              2                      3  ...               1   \n",
       "2               0              3                      1  ...               1   \n",
       "3               1              0                      0  ...               0   \n",
       "4               0              2                      2  ...               2   \n",
       "...           ...            ...                    ...  ...             ...   \n",
       "27494           0              0                      3  ...               1   \n",
       "27495           0              1                      0  ...               0   \n",
       "27496           0              2                      2  ...               0   \n",
       "27497           1              0                      0  ...               0   \n",
       "27498           0              3                      0  ...               2   \n",
       "\n",
       "       Meal_Type_cat  Visted_Previously_cat  Previous_Cancellations_cat  \\\n",
       "0                  0                      0                           0   \n",
       "1                  0                      0                           0   \n",
       "2                  0                      0                           0   \n",
       "3                  0                      0                           0   \n",
       "4                  0                      0                           0   \n",
       "...              ...                    ...                         ...   \n",
       "27494              2                      1                           1   \n",
       "27495              0                      0                           0   \n",
       "27496              2                      0                           0   \n",
       "27497              1                      0                           0   \n",
       "27498              2                      0                           0   \n",
       "\n",
       "       Deposit_type_cat  Booking_channel_cat  Required_Car_Parking_cat  \\\n",
       "0                     0                    2                         1   \n",
       "1                     2                    2                         1   \n",
       "2                     0                    2                         1   \n",
       "3                     2                    0                         1   \n",
       "4                     0                    1                         0   \n",
       "...                 ...                  ...                       ...   \n",
       "27494                 0                    2                         1   \n",
       "27495                 2                    0                         1   \n",
       "27496                 0                    1                         1   \n",
       "27497                 0                    2                         0   \n",
       "27498                 0                    2                         0   \n",
       "\n",
       "       Use_Promotion_cat  Staying_cat  Discount_Rate_cat  \n",
       "0                      1            0                  2  \n",
       "1                      0            0                  0  \n",
       "2                      0            3                  0  \n",
       "3                      1            0                  1  \n",
       "4                      1            0                  2  \n",
       "...                  ...          ...                ...  \n",
       "27494                  1            0                  2  \n",
       "27495                  1            0                  7  \n",
       "27496                  1            0                  1  \n",
       "27497                  1            0                  4  \n",
       "27498                  0            0                  0  \n",
       "\n",
       "[27499 rows x 22 columns]"
      ],
      "text/html": "<div>\n<style scoped>\n    .dataframe tbody tr th:only-of-type {\n        vertical-align: middle;\n    }\n\n    .dataframe tbody tr th {\n        vertical-align: top;\n    }\n\n    .dataframe thead th {\n        text-align: right;\n    }\n</style>\n<table border=\"1\" class=\"dataframe\">\n  <thead>\n    <tr style=\"text-align: right;\">\n      <th></th>\n      <th>Adults</th>\n      <th>Children</th>\n      <th>Babies</th>\n      <th>Room_Rate</th>\n      <th>Before</th>\n      <th>Month</th>\n      <th>Age_cat</th>\n      <th>Gender_cat</th>\n      <th>Ethnicity_cat</th>\n      <th>Educational_Level_cat</th>\n      <th>...</th>\n      <th>Hotel_Type_cat</th>\n      <th>Meal_Type_cat</th>\n      <th>Visted_Previously_cat</th>\n      <th>Previous_Cancellations_cat</th>\n      <th>Deposit_type_cat</th>\n      <th>Booking_channel_cat</th>\n      <th>Required_Car_Parking_cat</th>\n      <th>Use_Promotion_cat</th>\n      <th>Staying_cat</th>\n      <th>Discount_Rate_cat</th>\n    </tr>\n  </thead>\n  <tbody>\n    <tr>\n      <th>0</th>\n      <td>2</td>\n      <td>2</td>\n      <td>0</td>\n      <td>2</td>\n      <td>5</td>\n      <td>7</td>\n      <td>6</td>\n      <td>0</td>\n      <td>2</td>\n      <td>1</td>\n      <td>...</td>\n      <td>1</td>\n      <td>0</td>\n      <td>0</td>\n      <td>0</td>\n      <td>0</td>\n      <td>2</td>\n      <td>1</td>\n      <td>1</td>\n      <td>0</td>\n      <td>2</td>\n    </tr>\n    <tr>\n      <th>1</th>\n      <td>3</td>\n      <td>3</td>\n      <td>0</td>\n      <td>1</td>\n      <td>5</td>\n      <td>7</td>\n      <td>6</td>\n      <td>0</td>\n      <td>2</td>\n      <td>3</td>\n      <td>...</td>\n      <td>1</td>\n      <td>0</td>\n      <td>0</td>\n      <td>0</td>\n      <td>2</td>\n      <td>2</td>\n      <td>1</td>\n      <td>0</td>\n      <td>0</td>\n      <td>0</td>\n    </tr>\n    <tr>\n      <th>2</th>\n      <td>3</td>\n      <td>3</td>\n      <td>0</td>\n      <td>0</td>\n      <td>0</td>\n      <td>7</td>\n      <td>6</td>\n      <td>0</td>\n      <td>3</td>\n      <td>1</td>\n      <td>...</td>\n      <td>1</td>\n      <td>0</td>\n      <td>0</td>\n      <td>0</td>\n      <td>0</td>\n      <td>2</td>\n      <td>1</td>\n      <td>0</td>\n      <td>3</td>\n      <td>0</td>\n    </tr>\n    <tr>\n      <th>3</th>\n      <td>4</td>\n      <td>3</td>\n      <td>0</td>\n      <td>0</td>\n      <td>1</td>\n      <td>7</td>\n      <td>4</td>\n      <td>1</td>\n      <td>0</td>\n      <td>0</td>\n      <td>...</td>\n      <td>0</td>\n      <td>0</td>\n      <td>0</td>\n      <td>0</td>\n      <td>2</td>\n      <td>0</td>\n      <td>1</td>\n      <td>1</td>\n      <td>0</td>\n      <td>1</td>\n    </tr>\n    <tr>\n      <th>4</th>\n      <td>1</td>\n      <td>1</td>\n      <td>0</td>\n      <td>2</td>\n      <td>1</td>\n      <td>7</td>\n      <td>7</td>\n      <td>0</td>\n      <td>2</td>\n      <td>2</td>\n      <td>...</td>\n      <td>2</td>\n      <td>0</td>\n      <td>0</td>\n      <td>0</td>\n      <td>0</td>\n      <td>1</td>\n      <td>0</td>\n      <td>1</td>\n      <td>0</td>\n      <td>2</td>\n    </tr>\n    <tr>\n      <th>...</th>\n      <td>...</td>\n      <td>...</td>\n      <td>...</td>\n      <td>...</td>\n      <td>...</td>\n      <td>...</td>\n      <td>...</td>\n      <td>...</td>\n      <td>...</td>\n      <td>...</td>\n      <td>...</td>\n      <td>...</td>\n      <td>...</td>\n      <td>...</td>\n      <td>...</td>\n      <td>...</td>\n      <td>...</td>\n      <td>...</td>\n      <td>...</td>\n      <td>...</td>\n      <td>...</td>\n    </tr>\n    <tr>\n      <th>27494</th>\n      <td>1</td>\n      <td>2</td>\n      <td>1</td>\n      <td>-1</td>\n      <td>5</td>\n      <td>8</td>\n      <td>6</td>\n      <td>0</td>\n      <td>0</td>\n      <td>3</td>\n      <td>...</td>\n      <td>1</td>\n      <td>2</td>\n      <td>1</td>\n      <td>1</td>\n      <td>0</td>\n      <td>2</td>\n      <td>1</td>\n      <td>1</td>\n      <td>0</td>\n      <td>2</td>\n    </tr>\n    <tr>\n      <th>27495</th>\n      <td>2</td>\n      <td>1</td>\n      <td>0</td>\n      <td>1</td>\n      <td>18</td>\n      <td>8</td>\n      <td>6</td>\n      <td>0</td>\n      <td>1</td>\n      <td>0</td>\n      <td>...</td>\n      <td>0</td>\n      <td>0</td>\n      <td>0</td>\n      <td>0</td>\n      <td>2</td>\n      <td>0</td>\n      <td>1</td>\n      <td>1</td>\n      <td>0</td>\n      <td>7</td>\n    </tr>\n    <tr>\n      <th>27496</th>\n      <td>2</td>\n      <td>1</td>\n      <td>1</td>\n      <td>2</td>\n      <td>1</td>\n      <td>9</td>\n      <td>6</td>\n      <td>0</td>\n      <td>2</td>\n      <td>2</td>\n      <td>...</td>\n      <td>0</td>\n      <td>2</td>\n      <td>0</td>\n      <td>0</td>\n      <td>0</td>\n      <td>1</td>\n      <td>1</td>\n      <td>1</td>\n      <td>0</td>\n      <td>1</td>\n    </tr>\n    <tr>\n      <th>27497</th>\n      <td>3</td>\n      <td>2</td>\n      <td>0</td>\n      <td>1</td>\n      <td>14</td>\n      <td>8</td>\n      <td>7</td>\n      <td>1</td>\n      <td>0</td>\n      <td>0</td>\n      <td>...</td>\n      <td>0</td>\n      <td>1</td>\n      <td>0</td>\n      <td>0</td>\n      <td>0</td>\n      <td>2</td>\n      <td>0</td>\n      <td>1</td>\n      <td>0</td>\n      <td>4</td>\n    </tr>\n    <tr>\n      <th>27498</th>\n      <td>3</td>\n      <td>1</td>\n      <td>0</td>\n      <td>2</td>\n      <td>9</td>\n      <td>8</td>\n      <td>6</td>\n      <td>0</td>\n      <td>3</td>\n      <td>0</td>\n      <td>...</td>\n      <td>2</td>\n      <td>2</td>\n      <td>0</td>\n      <td>0</td>\n      <td>0</td>\n      <td>2</td>\n      <td>0</td>\n      <td>0</td>\n      <td>0</td>\n      <td>0</td>\n    </tr>\n  </tbody>\n</table>\n<p>27499 rows × 22 columns</p>\n</div>"
     },
     "metadata": {},
     "execution_count": 30
    }
   ],
   "source": [
    "columns_train=[\"Reservation-id\",\"Reservation_Status\",\"Expected_checkin\",\"Expected_checkout\",\"Booking_date\",\"Age\",\"Gender\",\"Ethnicity\",\"Educational_Level\",\"Income\",\"Country_region\",\"Hotel_Type\",\"Meal_Type\",\"Visted_Previously\",\"Previous_Cancellations\",\"Deposit_type\",\"Booking_channel\",\"Required_Car_Parking\",\"Use_Promotion\",\"Staying\",\"Discount_Rate\"]#,\"Room_Rate\"]\n",
    "columns_out=[\"Reservation-id\",\"Expected_checkin\",\"Expected_checkout\",\"Booking_date\",\"Age\",\"Gender\",\"Ethnicity\",\"Educational_Level\",\"Income\",\"Country_region\",\"Hotel_Type\",\"Meal_Type\",\"Visted_Previously\",\"Previous_Cancellations\",\"Deposit_type\",\"Booking_channel\",\"Required_Car_Parking\",\"Use_Promotion\",\"Staying\",\"Discount_Rate\"]#,\"Room_Rate\"]\n",
    "\n",
    "data_train_x,data_train_y = out(data_train,columns_train,True)\n",
    "data_test_x,data_test_y =out(data_test,columns_train,True)\n",
    "data_out,ids = out(data_out_or,columns_out,False)\n",
    "data_train_x"
   ]
  },
  {
   "source": [
    "Defining the classifier and training the model."
   ],
   "cell_type": "code",
   "metadata": {},
   "execution_count": null,
   "outputs": []
  },
  {
   "cell_type": "code",
   "execution_count": 31,
   "metadata": {},
   "outputs": [],
   "source": [
    "clf = tree.DecisionTreeClassifier()\n",
    "clf = clf.fit(data_train_x, data_train_y.values.ravel())"
   ]
  },
  {
   "source": [
    "Get scores for validation dataset"
   ],
   "cell_type": "markdown",
   "metadata": {}
  },
  {
   "cell_type": "code",
   "execution_count": 32,
   "metadata": {},
   "outputs": [
    {
     "output_type": "stream",
     "name": "stdout",
     "text": [
      "0.4783557657329938\n0.34040222762051137\n"
     ]
    }
   ],
   "source": [
    "pred = clf.predict(data_test_x)\n",
    "print(accuracy_score( data_test_y,pred))\n",
    "print(f1_score(data_test_y, pred, average='macro'))"
   ]
  },
  {
   "cell_type": "markdown",
   "metadata": {},
   "source": [
    "Predicting and saving the output"
   ]
  },
  {
   "cell_type": "code",
   "execution_count": 33,
   "metadata": {},
   "outputs": [
    {
     "output_type": "stream",
     "name": "stdout",
     "text": [
      "      Reservation-id  Reservation_Status\n4007        63204078                   1\n4099        24604581                   2\n3113        42655220                   1\n1362        21915580                   1\n3712        14975639                   1\n4253        10772755                   1\n836         73940542                   1\n4111        74758107                   3\n4106        95097963                   1\n1905        49896464                   2\n2913        29303076                   3\n169         31891030                   2\n3523        84097363                   1\n627         18739601                   1\n3215        33488678                   2\n3383        50285280                   1\n2229        35209776                   2\n2970        35223263                   1\n2162        16520129                   1\n4035        46285920                   2\n"
     ]
    }
   ],
   "source": [
    "pred = clf.predict(data_out)\n",
    "ids[['Reservation_Status']]=pred\n",
    "ids.to_csv('AGNI_CODE_HUNTERs.csv',index=False)\n",
    "print(ids.sample(20))"
   ]
  }
 ],
 "metadata": {
  "kernelspec": {
   "name": "python3",
   "display_name": "Python 3",
   "language": "python"
  },
  "language_info": {
   "codemirror_mode": {
    "name": "ipython",
    "version": 3
   },
   "file_extension": ".py",
   "mimetype": "text/x-python",
   "name": "python",
   "nbconvert_exporter": "python",
   "pygments_lexer": "ipython3",
   "version": "3.8.5-final"
  }
 },
 "nbformat": 4,
 "nbformat_minor": 4
}